{
 "cells": [
  {
   "cell_type": "code",
   "execution_count": 1,
   "metadata": {
    "ExecuteTime": {
     "end_time": "2020-11-09T14:15:23.140320Z",
     "start_time": "2020-11-09T14:15:23.002047Z"
    }
   },
   "outputs": [
    {
     "name": "stdout",
     "output_type": "stream",
     "text": [
      "Mon Nov  9 22:15:23 2020       \r\n",
      "+-----------------------------------------------------------------------------+\r\n",
      "| NVIDIA-SMI 440.100      Driver Version: 440.100      CUDA Version: 10.2     |\r\n",
      "|-------------------------------+----------------------+----------------------+\r\n",
      "| GPU  Name        Persistence-M| Bus-Id        Disp.A | Volatile Uncorr. ECC |\r\n",
      "| Fan  Temp  Perf  Pwr:Usage/Cap|         Memory-Usage | GPU-Util  Compute M. |\r\n",
      "|===============================+======================+======================|\r\n",
      "|   0  GeForce GTX 108...  Off  | 00000000:2D:00.0 Off |                  N/A |\r\n",
      "|  0%   42C    P8    10W / 280W |    913MiB / 11177MiB |      0%      Default |\r\n",
      "+-------------------------------+----------------------+----------------------+\r\n",
      "|   1  GeForce GTX 108...  Off  | 00000000:2E:00.0 Off |                  N/A |\r\n",
      "| 21%   58C    P2    60W / 250W |    970MiB / 11178MiB |      0%      Default |\r\n",
      "+-------------------------------+----------------------+----------------------+\r\n",
      "                                                                               \r\n",
      "+-----------------------------------------------------------------------------+\r\n",
      "| Processes:                                                       GPU Memory |\r\n",
      "|  GPU       PID   Type   Process name                             Usage      |\r\n",
      "|=============================================================================|\r\n",
      "|    0      4720      C   ...3072/anaconda3/envs/chienyu2/bin/python   295MiB |\r\n",
      "|    0      6645      C   ...3072/anaconda3/envs/chienyu2/bin/python   227MiB |\r\n",
      "|    0     24590      G   gnome-control-center                           2MiB |\r\n",
      "|    0     27849      G   /usr/lib/xorg/Xorg                            18MiB |\r\n",
      "|    0     27875      G   /usr/bin/gnome-shell                          49MiB |\r\n",
      "|    0     28040      G   /usr/lib/xorg/Xorg                           117MiB |\r\n",
      "|    0     28128      G   /usr/bin/gnome-shell                         192MiB |\r\n",
      "|    1     22061      C   ...e/deep3072/anaconda3/envs/tu/bin/python   519MiB |\r\n",
      "|    1     25815      C   ...3072/anaconda3/envs/chienyu2/bin/python   439MiB |\r\n",
      "+-----------------------------------------------------------------------------+\r\n"
     ]
    }
   ],
   "source": [
    "!nvidia-smi"
   ]
  },
  {
   "cell_type": "markdown",
   "metadata": {},
   "source": [
    "### original datamgr"
   ]
  },
  {
   "cell_type": "code",
   "execution_count": 2,
   "metadata": {
    "ExecuteTime": {
     "end_time": "2020-11-09T14:15:24.816564Z",
     "start_time": "2020-11-09T14:15:23.141567Z"
    }
   },
   "outputs": [
    {
     "name": "stderr",
     "output_type": "stream",
     "text": [
      "/home/deep3072/data/tu/disentangled/Lr-LiVAE/LrLiVAE.py:6: UserWarning: \n",
      "This call to matplotlib.use() has no effect because the backend has already\n",
      "been chosen; matplotlib.use() must be called *before* pylab, matplotlib.pyplot,\n",
      "or matplotlib.backends is imported for the first time.\n",
      "\n",
      "The backend was *originally* set to 'module://ipykernel.pylab.backend_inline' by the following code:\n",
      "  File \"/home/deep3072/anaconda3/envs/tu/lib/python3.7/runpy.py\", line 193, in _run_module_as_main\n",
      "    \"__main__\", mod_spec)\n",
      "  File \"/home/deep3072/anaconda3/envs/tu/lib/python3.7/runpy.py\", line 85, in _run_code\n",
      "    exec(code, run_globals)\n",
      "  File \"/home/deep3072/anaconda3/envs/tu/lib/python3.7/site-packages/ipykernel_launcher.py\", line 16, in <module>\n",
      "    app.launch_new_instance()\n",
      "  File \"/home/deep3072/anaconda3/envs/tu/lib/python3.7/site-packages/traitlets/config/application.py\", line 658, in launch_instance\n",
      "    app.start()\n",
      "  File \"/home/deep3072/anaconda3/envs/tu/lib/python3.7/site-packages/ipykernel/kernelapp.py\", line 583, in start\n",
      "    self.io_loop.start()\n",
      "  File \"/home/deep3072/anaconda3/envs/tu/lib/python3.7/site-packages/tornado/platform/asyncio.py\", line 132, in start\n",
      "    self.asyncio_loop.run_forever()\n",
      "  File \"/home/deep3072/anaconda3/envs/tu/lib/python3.7/asyncio/base_events.py\", line 523, in run_forever\n",
      "    self._run_once()\n",
      "  File \"/home/deep3072/anaconda3/envs/tu/lib/python3.7/asyncio/base_events.py\", line 1758, in _run_once\n",
      "    handle._run()\n",
      "  File \"/home/deep3072/anaconda3/envs/tu/lib/python3.7/asyncio/events.py\", line 88, in _run\n",
      "    self._context.run(self._callback, *self._args)\n",
      "  File \"/home/deep3072/anaconda3/envs/tu/lib/python3.7/site-packages/tornado/ioloop.py\", line 758, in _run_callback\n",
      "    ret = callback()\n",
      "  File \"/home/deep3072/anaconda3/envs/tu/lib/python3.7/site-packages/tornado/stack_context.py\", line 300, in null_wrapper\n",
      "    return fn(*args, **kwargs)\n",
      "  File \"/home/deep3072/anaconda3/envs/tu/lib/python3.7/site-packages/tornado/gen.py\", line 1233, in inner\n",
      "    self.run()\n",
      "  File \"/home/deep3072/anaconda3/envs/tu/lib/python3.7/site-packages/tornado/gen.py\", line 1147, in run\n",
      "    yielded = self.gen.send(value)\n",
      "  File \"/home/deep3072/anaconda3/envs/tu/lib/python3.7/site-packages/ipykernel/kernelbase.py\", line 377, in dispatch_queue\n",
      "    yield self.process_one()\n",
      "  File \"/home/deep3072/anaconda3/envs/tu/lib/python3.7/site-packages/tornado/gen.py\", line 346, in wrapper\n",
      "    runner = Runner(result, future, yielded)\n",
      "  File \"/home/deep3072/anaconda3/envs/tu/lib/python3.7/site-packages/tornado/gen.py\", line 1080, in __init__\n",
      "    self.run()\n",
      "  File \"/home/deep3072/anaconda3/envs/tu/lib/python3.7/site-packages/tornado/gen.py\", line 1147, in run\n",
      "    yielded = self.gen.send(value)\n",
      "  File \"/home/deep3072/anaconda3/envs/tu/lib/python3.7/site-packages/ipykernel/kernelbase.py\", line 361, in process_one\n",
      "    yield gen.maybe_future(dispatch(*args))\n",
      "  File \"/home/deep3072/anaconda3/envs/tu/lib/python3.7/site-packages/tornado/gen.py\", line 326, in wrapper\n",
      "    yielded = next(result)\n",
      "  File \"/home/deep3072/anaconda3/envs/tu/lib/python3.7/site-packages/ipykernel/kernelbase.py\", line 268, in dispatch_shell\n",
      "    yield gen.maybe_future(handler(stream, idents, msg))\n",
      "  File \"/home/deep3072/anaconda3/envs/tu/lib/python3.7/site-packages/tornado/gen.py\", line 326, in wrapper\n",
      "    yielded = next(result)\n",
      "  File \"/home/deep3072/anaconda3/envs/tu/lib/python3.7/site-packages/ipykernel/kernelbase.py\", line 541, in execute_request\n",
      "    user_expressions, allow_stdin,\n",
      "  File \"/home/deep3072/anaconda3/envs/tu/lib/python3.7/site-packages/tornado/gen.py\", line 326, in wrapper\n",
      "    yielded = next(result)\n",
      "  File \"/home/deep3072/anaconda3/envs/tu/lib/python3.7/site-packages/ipykernel/ipkernel.py\", line 300, in do_execute\n",
      "    res = shell.run_cell(code, store_history=store_history, silent=silent)\n",
      "  File \"/home/deep3072/anaconda3/envs/tu/lib/python3.7/site-packages/ipykernel/zmqshell.py\", line 536, in run_cell\n",
      "    return super(ZMQInteractiveShell, self).run_cell(*args, **kwargs)\n",
      "  File \"/home/deep3072/anaconda3/envs/tu/lib/python3.7/site-packages/IPython/core/interactiveshell.py\", line 2662, in run_cell\n",
      "    raw_cell, store_history, silent, shell_futures)\n",
      "  File \"/home/deep3072/anaconda3/envs/tu/lib/python3.7/site-packages/IPython/core/interactiveshell.py\", line 2785, in _run_cell\n",
      "    interactivity=interactivity, compiler=compiler, result=result)\n",
      "  File \"/home/deep3072/anaconda3/envs/tu/lib/python3.7/site-packages/IPython/core/interactiveshell.py\", line 2901, in run_ast_nodes\n",
      "    if self.run_code(code, result):\n",
      "  File \"/home/deep3072/anaconda3/envs/tu/lib/python3.7/site-packages/IPython/core/interactiveshell.py\", line 2961, in run_code\n",
      "    exec(code_obj, self.user_global_ns, self.user_ns)\n",
      "  File \"<ipython-input-2-0ed2675a699f>\", line 1, in <module>\n",
      "    from data.datamgr import SetDataManager, DataManager\n",
      "  File \"/home/deep3072/data/tu/meta_few-shot/CloserLookFewShot/data/__init__.py\", line 1, in <module>\n",
      "    from . import datamgr\n",
      "  File \"/home/deep3072/data/tu/meta_few-shot/CloserLookFewShot/data/datamgr.py\", line 8, in <module>\n",
      "    from data.dataset import SimpleDataset, SetDataset, EpisodicBatchSampler, HDF5Dataset, AugSetDataset, AugSimpleDataset, VAESetDataset, VirtualSetDataset, VirtualSimpleDataset\n",
      "  File \"/home/deep3072/data/tu/meta_few-shot/CloserLookFewShot/data/dataset.py\", line 12, in <module>\n",
      "    from my_utils import *\n",
      "  File \"/home/deep3072/data/tu/meta_few-shot/CloserLookFewShot/my_utils.py\", line 20, in <module>\n",
      "    import matplotlib.pyplot as plt\n",
      "  File \"/home/deep3072/anaconda3/envs/tu/lib/python3.7/site-packages/matplotlib/pyplot.py\", line 71, in <module>\n",
      "    from matplotlib.backends import pylab_setup\n",
      "  File \"/home/deep3072/anaconda3/envs/tu/lib/python3.7/site-packages/matplotlib/backends/__init__.py\", line 16, in <module>\n",
      "    line for line in traceback.format_stack()\n",
      "\n",
      "\n",
      "  mpl.use('Agg')\n",
      "/home/deep3072/data/tu/disentangled/Lr-LiVAE/datas.py:7: UserWarning: \n",
      "This call to matplotlib.use() has no effect because the backend has already\n",
      "been chosen; matplotlib.use() must be called *before* pylab, matplotlib.pyplot,\n",
      "or matplotlib.backends is imported for the first time.\n",
      "\n",
      "The backend was *originally* set to 'module://ipykernel.pylab.backend_inline' by the following code:\n",
      "  File \"/home/deep3072/anaconda3/envs/tu/lib/python3.7/runpy.py\", line 193, in _run_module_as_main\n",
      "    \"__main__\", mod_spec)\n",
      "  File \"/home/deep3072/anaconda3/envs/tu/lib/python3.7/runpy.py\", line 85, in _run_code\n",
      "    exec(code, run_globals)\n",
      "  File \"/home/deep3072/anaconda3/envs/tu/lib/python3.7/site-packages/ipykernel_launcher.py\", line 16, in <module>\n",
      "    app.launch_new_instance()\n",
      "  File \"/home/deep3072/anaconda3/envs/tu/lib/python3.7/site-packages/traitlets/config/application.py\", line 658, in launch_instance\n",
      "    app.start()\n",
      "  File \"/home/deep3072/anaconda3/envs/tu/lib/python3.7/site-packages/ipykernel/kernelapp.py\", line 583, in start\n",
      "    self.io_loop.start()\n",
      "  File \"/home/deep3072/anaconda3/envs/tu/lib/python3.7/site-packages/tornado/platform/asyncio.py\", line 132, in start\n",
      "    self.asyncio_loop.run_forever()\n",
      "  File \"/home/deep3072/anaconda3/envs/tu/lib/python3.7/asyncio/base_events.py\", line 523, in run_forever\n",
      "    self._run_once()\n",
      "  File \"/home/deep3072/anaconda3/envs/tu/lib/python3.7/asyncio/base_events.py\", line 1758, in _run_once\n",
      "    handle._run()\n",
      "  File \"/home/deep3072/anaconda3/envs/tu/lib/python3.7/asyncio/events.py\", line 88, in _run\n",
      "    self._context.run(self._callback, *self._args)\n",
      "  File \"/home/deep3072/anaconda3/envs/tu/lib/python3.7/site-packages/tornado/ioloop.py\", line 758, in _run_callback\n",
      "    ret = callback()\n",
      "  File \"/home/deep3072/anaconda3/envs/tu/lib/python3.7/site-packages/tornado/stack_context.py\", line 300, in null_wrapper\n",
      "    return fn(*args, **kwargs)\n",
      "  File \"/home/deep3072/anaconda3/envs/tu/lib/python3.7/site-packages/tornado/gen.py\", line 1233, in inner\n",
      "    self.run()\n",
      "  File \"/home/deep3072/anaconda3/envs/tu/lib/python3.7/site-packages/tornado/gen.py\", line 1147, in run\n",
      "    yielded = self.gen.send(value)\n",
      "  File \"/home/deep3072/anaconda3/envs/tu/lib/python3.7/site-packages/ipykernel/kernelbase.py\", line 377, in dispatch_queue\n",
      "    yield self.process_one()\n",
      "  File \"/home/deep3072/anaconda3/envs/tu/lib/python3.7/site-packages/tornado/gen.py\", line 346, in wrapper\n",
      "    runner = Runner(result, future, yielded)\n",
      "  File \"/home/deep3072/anaconda3/envs/tu/lib/python3.7/site-packages/tornado/gen.py\", line 1080, in __init__\n",
      "    self.run()\n",
      "  File \"/home/deep3072/anaconda3/envs/tu/lib/python3.7/site-packages/tornado/gen.py\", line 1147, in run\n",
      "    yielded = self.gen.send(value)\n",
      "  File \"/home/deep3072/anaconda3/envs/tu/lib/python3.7/site-packages/ipykernel/kernelbase.py\", line 361, in process_one\n",
      "    yield gen.maybe_future(dispatch(*args))\n",
      "  File \"/home/deep3072/anaconda3/envs/tu/lib/python3.7/site-packages/tornado/gen.py\", line 326, in wrapper\n",
      "    yielded = next(result)\n",
      "  File \"/home/deep3072/anaconda3/envs/tu/lib/python3.7/site-packages/ipykernel/kernelbase.py\", line 268, in dispatch_shell\n",
      "    yield gen.maybe_future(handler(stream, idents, msg))\n",
      "  File \"/home/deep3072/anaconda3/envs/tu/lib/python3.7/site-packages/tornado/gen.py\", line 326, in wrapper\n",
      "    yielded = next(result)\n",
      "  File \"/home/deep3072/anaconda3/envs/tu/lib/python3.7/site-packages/ipykernel/kernelbase.py\", line 541, in execute_request\n",
      "    user_expressions, allow_stdin,\n",
      "  File \"/home/deep3072/anaconda3/envs/tu/lib/python3.7/site-packages/tornado/gen.py\", line 326, in wrapper\n",
      "    yielded = next(result)\n",
      "  File \"/home/deep3072/anaconda3/envs/tu/lib/python3.7/site-packages/ipykernel/ipkernel.py\", line 300, in do_execute\n",
      "    res = shell.run_cell(code, store_history=store_history, silent=silent)\n",
      "  File \"/home/deep3072/anaconda3/envs/tu/lib/python3.7/site-packages/ipykernel/zmqshell.py\", line 536, in run_cell\n",
      "    return super(ZMQInteractiveShell, self).run_cell(*args, **kwargs)\n",
      "  File \"/home/deep3072/anaconda3/envs/tu/lib/python3.7/site-packages/IPython/core/interactiveshell.py\", line 2662, in run_cell\n",
      "    raw_cell, store_history, silent, shell_futures)\n",
      "  File \"/home/deep3072/anaconda3/envs/tu/lib/python3.7/site-packages/IPython/core/interactiveshell.py\", line 2785, in _run_cell\n",
      "    interactivity=interactivity, compiler=compiler, result=result)\n",
      "  File \"/home/deep3072/anaconda3/envs/tu/lib/python3.7/site-packages/IPython/core/interactiveshell.py\", line 2901, in run_ast_nodes\n",
      "    if self.run_code(code, result):\n",
      "  File \"/home/deep3072/anaconda3/envs/tu/lib/python3.7/site-packages/IPython/core/interactiveshell.py\", line 2961, in run_code\n",
      "    exec(code_obj, self.user_global_ns, self.user_ns)\n",
      "  File \"<ipython-input-2-0ed2675a699f>\", line 1, in <module>\n",
      "    from data.datamgr import SetDataManager, DataManager\n",
      "  File \"/home/deep3072/data/tu/meta_few-shot/CloserLookFewShot/data/__init__.py\", line 1, in <module>\n",
      "    from . import datamgr\n",
      "  File \"/home/deep3072/data/tu/meta_few-shot/CloserLookFewShot/data/datamgr.py\", line 8, in <module>\n",
      "    from data.dataset import SimpleDataset, SetDataset, EpisodicBatchSampler, HDF5Dataset, AugSetDataset, AugSimpleDataset, VAESetDataset, VirtualSetDataset, VirtualSimpleDataset\n",
      "  File \"/home/deep3072/data/tu/meta_few-shot/CloserLookFewShot/data/dataset.py\", line 12, in <module>\n",
      "    from my_utils import *\n",
      "  File \"/home/deep3072/data/tu/meta_few-shot/CloserLookFewShot/my_utils.py\", line 20, in <module>\n",
      "    import matplotlib.pyplot as plt\n",
      "  File \"/home/deep3072/anaconda3/envs/tu/lib/python3.7/site-packages/matplotlib/pyplot.py\", line 71, in <module>\n",
      "    from matplotlib.backends import pylab_setup\n",
      "  File \"/home/deep3072/anaconda3/envs/tu/lib/python3.7/site-packages/matplotlib/backends/__init__.py\", line 16, in <module>\n",
      "    line for line in traceback.format_stack()\n",
      "\n",
      "\n",
      "  mpl.use('Agg')\n"
     ]
    }
   ],
   "source": [
    "from data.datamgr import SetDataManager, DataManager"
   ]
  },
  {
   "cell_type": "code",
   "execution_count": 3,
   "metadata": {
    "ExecuteTime": {
     "end_time": "2020-11-09T14:15:24.819265Z",
     "start_time": "2020-11-09T14:15:24.817540Z"
    }
   },
   "outputs": [],
   "source": [
    "base_file = 'filelists/omniglot/base.json'\n",
    "image_size = 28\n",
    "n_query = 15\n",
    "few_shot_params = dict(n_way = 3, n_support = 5)"
   ]
  },
  {
   "cell_type": "code",
   "execution_count": 4,
   "metadata": {
    "ExecuteTime": {
     "end_time": "2020-11-09T14:15:24.903371Z",
     "start_time": "2020-11-09T14:15:24.820073Z"
    }
   },
   "outputs": [
    {
     "name": "stderr",
     "output_type": "stream",
     "text": [
      "/home/deep3072/anaconda3/envs/tu/lib/python3.7/site-packages/torchvision/transforms/transforms.py:210: UserWarning: The use of the transforms.Scale transform is deprecated, please use transforms.Resize instead.\n",
      "  warnings.warn(\"The use of the transforms.Scale transform is deprecated, \" +\n"
     ]
    }
   ],
   "source": [
    "base_datamgr = SetDataManager(image_size, n_query = n_query,  **few_shot_params)\n",
    "base_loader = base_datamgr.get_data_loader( base_file , aug = False)"
   ]
  },
  {
   "cell_type": "code",
   "execution_count": 5,
   "metadata": {
    "ExecuteTime": {
     "end_time": "2020-11-09T14:15:27.319270Z",
     "start_time": "2020-11-09T14:15:24.904891Z"
    }
   },
   "outputs": [
    {
     "name": "stdout",
     "output_type": "stream",
     "text": [
      "first_data[0].type(): torch.FloatTensor\n",
      "first_data[1].type(): torch.LongTensor\n",
      "torch.Size([3, 20, 3, 28, 28])\n",
      "torch.Size([3, 20])\n",
      "torch.FloatTensor\n",
      "torch.LongTensor\n"
     ]
    }
   ],
   "source": [
    "first_data = base_loader.dataset[0]\n",
    "print('first_data[0].type():', first_data[0].type())\n",
    "print('first_data[1].type():', first_data[1].type())\n",
    "for i, (x,_ ) in enumerate(base_loader):\n",
    "    print(x.shape)\n",
    "    print(_.shape)\n",
    "    print(x.type())\n",
    "    print(_.type())\n",
    "    break"
   ]
  },
  {
   "cell_type": "markdown",
   "metadata": {},
   "source": [
    "### customized datamgr"
   ]
  },
  {
   "cell_type": "code",
   "execution_count": 6,
   "metadata": {
    "ExecuteTime": {
     "end_time": "2020-11-09T14:15:27.322494Z",
     "start_time": "2020-11-09T14:15:27.320396Z"
    }
   },
   "outputs": [
    {
     "name": "stdout",
     "output_type": "stream",
     "text": [
      "1.15.1\n"
     ]
    }
   ],
   "source": [
    "import numpy as np\n",
    "# import torch\n",
    "# import torchvision.transforms as transforms\n",
    "# from data.dataset import EpisodicBatchSampler\n",
    "from data.datamgr import VirtualSetDataManager, load_npz_dataset\n",
    "# from data.dataset import VirtualSetDataset\n",
    "print(np.__version__)"
   ]
  },
  {
   "cell_type": "code",
   "execution_count": 7,
   "metadata": {
    "ExecuteTime": {
     "end_time": "2020-11-09T14:15:27.325729Z",
     "start_time": "2020-11-09T14:15:27.323313Z"
    }
   },
   "outputs": [],
   "source": [
    "n_dims = 100\n",
    "n_all_classes = 600 # base max 400 / source_val 100 / source_novel 100\n",
    "n_samples_per_class = 40 # i think 40 is enough\n",
    "n_classes = {\n",
    "    'base':400, 'val':100, 'novel':100, \n",
    "    'base25cl':25, 'base50cl':50, 'base100cl':100, 'base200cl':200,}\n",
    "distrib_center = np.zeros(n_dims)\n",
    "distrib_std = 20 * np.ones(n_dims)\n",
    "# base_distrib_radius = 1\n",
    "# base_x_std = 1\n",
    "cls_x_std = 1\n",
    "\n",
    "n_target_classes = 200\n",
    "n_val_classes = 100\n",
    "n_novel_classes = 100\n",
    "target_distrib_center = 1 * np.ones(n_dims)\n",
    "target_distrib_radius = 1\n",
    "target_x_std = 1\n",
    "target_cls_x_std = 0.1"
   ]
  },
  {
   "cell_type": "code",
   "execution_count": 8,
   "metadata": {
    "ExecuteTime": {
     "end_time": "2020-11-09T14:15:27.328726Z",
     "start_time": "2020-11-09T14:15:27.326465Z"
    }
   },
   "outputs": [],
   "source": [
    "n_base_informative = 20 # first 20 features\n",
    "n_target_informative = 50 # first 50 features\n",
    "assert n_base_informative <= n_dims\n",
    "assert n_target_informative <= n_dims"
   ]
  },
  {
   "cell_type": "code",
   "execution_count": 9,
   "metadata": {
    "ExecuteTime": {
     "end_time": "2020-11-09T14:15:27.337057Z",
     "start_time": "2020-11-09T14:15:27.329462Z"
    }
   },
   "outputs": [],
   "source": [
    "import os\n",
    "'''\n",
    "base dataset: \n",
    "    different n_classes\n",
    "    (different n_samples_per_class?)\n",
    "    \n",
    "target dataset:\n",
    "    different domain shift\n",
    "'''\n",
    "\n",
    "# def load_dataset(path):\n",
    "#     assert '.npz' in path, 'load path should be .npz file'\n",
    "#     data = np.load(path)\n",
    "#     return data['X'], data['y']\n",
    "\n",
    "class DatasetGenerator:\n",
    "    def __init__(self, n_dims, n_all_classes, n_classes, n_samples_per_class):#, datafolder='./'):\n",
    "        self.n_dims = n_dims\n",
    "        self.n_all_classes = n_all_classes\n",
    "        self.n_classes = n_classes # dictionary base50cl/base400cl/val/novel\n",
    "        self.n_samples_per_class = n_samples_per_class\n",
    "        self.n_samples = n_all_classes * n_samples_per_class\n",
    "#         self.datafolder = datafolder\n",
    "        assert n_all_classes == n_classes['base'] + n_classes['val'] + n_classes['novel']\n",
    "        \n",
    "    def gen_random_dataset(self, save_path=None):\n",
    "        n_samples = self.n_samples_per_class * self.n_all_classes\n",
    "        X_shape = (n_samples, self.n_dims)\n",
    "        X = np.random.random(X_shape)\n",
    "        y = np.repeat(np.arange(self.n_all_classes),self.n_samples_per_class,axis=0) # [0 0 1 1 2 2 ...]\n",
    "        if save_path is not None:\n",
    "            assert '.npz' in save_path, 'save path should be .npz file'\n",
    "            np.savez(save_path, X=X, y=y)#, X_mean=X.mean(axis=0), X_std=X.std(axis=0))\n",
    "        return X, y\n",
    "        \n",
    "    def gen_Gaussian_datasets(self, datafolder, distrib_center, distrib_std, cls_x_std, informative_interval):\n",
    "        ''' generate base100cl, base200cl, base400cl, val, novel datasets\n",
    "        '''\n",
    "        n_informative = informative_interval[1] - informative_interval[0] + 1\n",
    "        distrib_center_info_feat = distrib_center[informative_interval[0]:informative_interval[1]+1]\n",
    "        distrib_std_info_feat = distrib_std[informative_interval[0]:informative_interval[1]+1] # actually no need that complex currently\n",
    "        informative_x_centers = np.random.normal(\n",
    "            loc = distrib_center_info_feat, scale = distrib_std_info_feat, \n",
    "            size = (self.n_all_classes, n_informative)\n",
    "        ) # shape: (n_all_classes, n_informative)\n",
    "#         print(informative_x_centers.shape)\n",
    "        X_info = []\n",
    "        for cl in range(self.n_all_classes):\n",
    "            info_x_center = informative_x_centers[cl]\n",
    "            cl_X_info = np.random.normal(\n",
    "                loc = info_x_center, scale = cls_x_std, \n",
    "                size = (self.n_samples_per_class, n_informative)\n",
    "#                 size = (n_informative, self.n_samples_per_class) # this would get error @@\n",
    "            )\n",
    "            X_info.append(cl_X_info)\n",
    "        X_info = np.concatenate(X_info, axis=0)\n",
    "        X_noninfo_center = distrib_center[:-n_informative] # hack (actually should be dimensions except informative_interval)\n",
    "        X_noninfo_std = distrib_std[:-n_informative] # hack (actually should be dimensions except informative_interval)\n",
    "        X_noninfo = np.random.normal(\n",
    "            loc = X_noninfo_center, scale = X_noninfo_std, \n",
    "            size = (self.n_samples, self.n_dims-n_informative)\n",
    "        )\n",
    "        X1 = X_noninfo[:, :informative_interval[0]] # hack\n",
    "        X2 = X_noninfo[:, informative_interval[0]:] # hack\n",
    "        X_all = np.concatenate(\n",
    "            (X1, X_info, X2)\n",
    "            , axis=1)\n",
    "        y_all = np.repeat(np.arange(self.n_all_classes),self.n_samples_per_class,axis=0) # [0 0 1 1 2 2 ...]\n",
    "        test_dataset_ls = ['val', 'novel']\n",
    "        Xs = {}\n",
    "        ys = {}\n",
    "#         for split in test_dataset_ls:\n",
    "        for split in self.n_classes.keys():\n",
    "            dataset_n_classes = self.n_classes[split]\n",
    "            dataset_n_samples = dataset_n_classes * self.n_samples_per_class\n",
    "            if 'base' in split:\n",
    "                X = X_all[:dataset_n_samples]\n",
    "                y = y_all[:dataset_n_samples]\n",
    "            elif split == 'novel':\n",
    "                X = X_all[-dataset_n_samples:]\n",
    "                y = y_all[-dataset_n_samples:]\n",
    "            elif split == 'val':\n",
    "                novel_n_samples = self.n_classes['novel'] * self.n_samples_per_class\n",
    "                X = X_all[-novel_n_samples-dataset_n_samples:-novel_n_samples]\n",
    "                y = y_all[-novel_n_samples-dataset_n_samples:-novel_n_samples]\n",
    "            else:\n",
    "                raise ValueError('Unknown split: %s'%(split))\n",
    "\n",
    "            Xs[split] = X\n",
    "            ys[split] = y\n",
    "            filename = split + '.npz'\n",
    "            out_path = os.path.join(datafolder, filename)\n",
    "            print('Saving file: %s'%(out_path))\n",
    "            if not os.path.exists(datafolder):\n",
    "                print('Folder not exist: \"%s\"'%(datafolder))\n",
    "                print('Making directory...')\n",
    "                os.makedirs(datafolder)\n",
    "            np.savez(out_path, X=X, y=y)\n",
    "        \n",
    "        return Xs, ys\n",
    "            \n",
    "    \n",
    "    "
   ]
  },
  {
   "cell_type": "code",
   "execution_count": 10,
   "metadata": {
    "ExecuteTime": {
     "end_time": "2020-11-09T14:15:27.339822Z",
     "start_time": "2020-11-09T14:15:27.337822Z"
    }
   },
   "outputs": [],
   "source": [
    "# filepath = 'filelists/virtual_20info/try_base200cl.npz'\n",
    "\n",
    "datafolder = './'\n",
    "dataset_generator = DatasetGenerator(\n",
    "    n_dims = n_dims, n_all_classes = n_all_classes, n_classes = n_classes, \n",
    "    n_samples_per_class = n_samples_per_class)#, datafolder = datafolder)"
   ]
  },
  {
   "cell_type": "code",
   "execution_count": 11,
   "metadata": {
    "ExecuteTime": {
     "end_time": "2020-11-09T14:15:27.342795Z",
     "start_time": "2020-11-09T14:15:27.340516Z"
    }
   },
   "outputs": [],
   "source": [
    "should_gen_npy = False\n",
    "if should_gen_npy:\n",
    "    filepath = '000.npz'\n",
    "    X, y = dataset_generator.gen_random_dataset(save_path=file_path)\n",
    "    print(X.shape)\n",
    "    print(y.shape)\n",
    "    X, y = load_npz_dataset(file_path)\n",
    "    print(X.shape)\n",
    "    print(y.shape)"
   ]
  },
  {
   "cell_type": "code",
   "execution_count": 12,
   "metadata": {
    "ExecuteTime": {
     "end_time": "2020-11-09T14:15:27.584620Z",
     "start_time": "2020-11-09T14:15:27.343524Z"
    }
   },
   "outputs": [
    {
     "name": "stdout",
     "output_type": "stream",
     "text": [
      "datafolder: filelists/virtual_info0029/\n",
      "Saving file: filelists/virtual_info0029/base.npz\n",
      "Saving file: filelists/virtual_info0029/val.npz\n",
      "Saving file: filelists/virtual_info0029/novel.npz\n",
      "Saving file: filelists/virtual_info0029/base25cl.npz\n",
      "Saving file: filelists/virtual_info0029/base50cl.npz\n",
      "Saving file: filelists/virtual_info0029/base100cl.npz\n",
      "Saving file: filelists/virtual_info0029/base200cl.npz\n"
     ]
    }
   ],
   "source": [
    "should_gen_Gaussian = True\n",
    "informative_interval = (0, 29)\n",
    "info_int_s1 = str(informative_interval[0]).zfill(2)\n",
    "info_int_s2 = str(informative_interval[1]).zfill(2)\n",
    "datafolder = 'filelists/virtual_info%s%s/'%(info_int_s1, info_int_s2)\n",
    "print('datafolder:', datafolder)\n",
    "if should_gen_Gaussian:\n",
    "    dataset_generator.gen_Gaussian_datasets(\n",
    "        datafolder = datafolder, \n",
    "        distrib_center=distrib_center, distrib_std=distrib_std, \n",
    "        cls_x_std=cls_x_std, informative_interval=informative_interval)"
   ]
  },
  {
   "cell_type": "code",
   "execution_count": 13,
   "metadata": {
    "ExecuteTime": {
     "end_time": "2020-11-09T14:15:27.800968Z",
     "start_time": "2020-11-09T14:15:27.585547Z"
    }
   },
   "outputs": [
    {
     "ename": "NameError",
     "evalue": "name 'aaa' is not defined",
     "output_type": "error",
     "traceback": [
      "\u001b[0;31m---------------------------------------------------------------------------\u001b[0m",
      "\u001b[0;31mNameError\u001b[0m                                 Traceback (most recent call last)",
      "\u001b[0;32m<ipython-input-13-972a1a11f199>\u001b[0m in \u001b[0;36m<module>\u001b[0;34m()\u001b[0m\n\u001b[0;32m----> 1\u001b[0;31m \u001b[0maaa\u001b[0m\u001b[0;34m\u001b[0m\u001b[0m\n\u001b[0m",
      "\u001b[0;31mNameError\u001b[0m: name 'aaa' is not defined"
     ]
    }
   ],
   "source": [
    "aaa"
   ]
  },
  {
   "cell_type": "code",
   "execution_count": null,
   "metadata": {
    "ExecuteTime": {
     "end_time": "2020-11-09T14:15:27.801859Z",
     "start_time": "2020-11-09T14:15:21.202Z"
    }
   },
   "outputs": [],
   "source": [
    "base_datamgr = VirtualSetDataManager(in_dim = n_dims, n_query = 15,  **few_shot_params)\n",
    "base_loader = base_datamgr.get_data_loader( filepath = filepath, aug = False)"
   ]
  },
  {
   "cell_type": "code",
   "execution_count": null,
   "metadata": {
    "ExecuteTime": {
     "end_time": "2020-11-09T14:15:27.802247Z",
     "start_time": "2020-11-09T14:15:21.204Z"
    }
   },
   "outputs": [],
   "source": [
    "first_data = base_loader.dataset[0]\n",
    "print('first_data[0].type():', first_data[0].type())\n",
    "print('first_data[1].type():', first_data[1].type())\n",
    "\n",
    "for i, (x,y ) in enumerate(base_loader):\n",
    "    print(x.shape)\n",
    "    print(y.shape)\n",
    "    print(x.type())\n",
    "    print(y.type())\n",
    "    break"
   ]
  },
  {
   "cell_type": "code",
   "execution_count": null,
   "metadata": {},
   "outputs": [],
   "source": []
  }
 ],
 "metadata": {
  "kernelspec": {
   "display_name": "Python [conda env:tu]",
   "language": "python",
   "name": "conda-env-tu-py"
  },
  "language_info": {
   "codemirror_mode": {
    "name": "ipython",
    "version": 3
   },
   "file_extension": ".py",
   "mimetype": "text/x-python",
   "name": "python",
   "nbconvert_exporter": "python",
   "pygments_lexer": "ipython3",
   "version": "3.7.0"
  },
  "toc": {
   "base_numbering": 1,
   "nav_menu": {},
   "number_sections": true,
   "sideBar": true,
   "skip_h1_title": false,
   "title_cell": "Table of Contents",
   "title_sidebar": "Contents",
   "toc_cell": false,
   "toc_position": {},
   "toc_section_display": true,
   "toc_window_display": false
  },
  "varInspector": {
   "cols": {
    "lenName": 16,
    "lenType": 16,
    "lenVar": 40
   },
   "kernels_config": {
    "python": {
     "delete_cmd_postfix": "",
     "delete_cmd_prefix": "del ",
     "library": "var_list.py",
     "varRefreshCmd": "print(var_dic_list())"
    },
    "r": {
     "delete_cmd_postfix": ") ",
     "delete_cmd_prefix": "rm(",
     "library": "var_list.r",
     "varRefreshCmd": "cat(var_dic_list()) "
    }
   },
   "types_to_exclude": [
    "module",
    "function",
    "builtin_function_or_method",
    "instance",
    "_Feature"
   ],
   "window_display": false
  }
 },
 "nbformat": 4,
 "nbformat_minor": 4
}
